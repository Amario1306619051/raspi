{
 "cells": [
  {
   "cell_type": "markdown",
   "id": "7e6513d7",
   "metadata": {},
   "source": [
    "<h1> Apa saja yang belum dilakukan pada code? </h1>\n",
    "\n",
    "<hr>\n",
    "\n",
    "1. Menggunakan Hough Transform untuk menghubungkan objek\n",
    "2. Menerapkan HOG pada citra yang telah dipisahkan objek dan latar belakangnya\n",
    "3. Menggabungkan gradient threshold dan threshold warna\n",
    "4. Menggunakan gambar lain\n",
    "5. Mengembalikan dari bird's eye view ke pesprektif awal\n",
    "6. Menerapkan sliding windows / membuat ROI\n",
    "7. Menentukan langkah - langkah untuk mendeteksi marka jalan"
   ]
  },
  {
   "cell_type": "code",
   "execution_count": null,
   "id": "8382f140",
   "metadata": {},
   "outputs": [],
   "source": []
  }
 ],
 "metadata": {
  "kernelspec": {
   "display_name": "Python 3 (ipykernel)",
   "language": "python",
   "name": "python3"
  },
  "language_info": {
   "codemirror_mode": {
    "name": "ipython",
    "version": 3
   },
   "file_extension": ".py",
   "mimetype": "text/x-python",
   "name": "python",
   "nbconvert_exporter": "python",
   "pygments_lexer": "ipython3",
   "version": "3.9.7"
  }
 },
 "nbformat": 4,
 "nbformat_minor": 5
}
